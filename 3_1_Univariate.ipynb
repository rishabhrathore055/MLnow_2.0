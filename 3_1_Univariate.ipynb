{
  "nbformat": 4,
  "nbformat_minor": 0,
  "metadata": {
    "colab": {
      "name": " 3.1_Univariate.ipynb",
      "provenance": [],
      "toc_visible": true,
      "include_colab_link": true
    },
    "kernelspec": {
      "display_name": "Python 3",
      "name": "python3"
    }
  },
  "cells": [
    {
      "cell_type": "markdown",
      "metadata": {
        "id": "view-in-github",
        "colab_type": "text"
      },
      "source": [
        "<a href=\"https://colab.research.google.com/github/rishabhrathore055/rishabhrathore055-MLnow_2.0/blob/main/3_1_Univariate.ipynb\" target=\"_parent\"><img src=\"https://colab.research.google.com/assets/colab-badge.svg\" alt=\"Open In Colab\"/></a>"
      ]
    },
    {
      "cell_type": "markdown",
      "metadata": {
        "id": "q_569ugy6lyY"
      },
      "source": [
       
        "[Link to Download the dataset](https://archive.ics.uci.edu/ml/datasets/Student+Performance)\n",
        "\n",
        "**Date Created**: June 6, 2021\n",
        "\n",
        "**Topic :**Univariate Linear Regression\n",
        "\n",
        "**Author**:\n",
        " Rishabh Rathore \n",
        "\n",
        "**Reach out**:\n",
        "[Email](https://www.google.com/intl/en-GB/gmail/about/#) | [GitHub](https://github.com/rishabhrathore055) | [LinkedIn](https://www.linkedin.com/in/rishabhrathore)\n",
        "\n",
        "[[Assesment Repository](https://github.com/rishabhrathore055/MLnow_2.0)]\n",
        "\n"
      ]
    },
    {
      "cell_type": "markdown",
      "metadata": {
        "id": "KmW9S6zjaauQ"
      },
      "source": [
        "## Setup"
      ]
    },
    {
      "cell_type": "code",
      "metadata": {
        "colab": {
          "base_uri": "https://localhost:8080/"
        },
        "id": "oX_QibhWsnnX",
        "outputId": "5c2870f5-0db6-42b4-927c-5acaa2f04cc2"
      },
      "source": [
        "from google.colab import drive\n",
        "drive.mount('/content/drive')"
      ],
      "execution_count": 4,
      "outputs": [
        {
          "output_type": "stream",
          "text": [
            "Drive already mounted at /content/drive; to attempt to forcibly remount, call drive.mount(\"/content/drive\", force_remount=True).\n"
          ],
          "name": "stdout"
        }
      ]
    },
    {
      "cell_type": "code",
      "metadata": {
        "colab": {
          "base_uri": "https://localhost:8080/"
        },
        "id": "wYuNn17Isvml",
        "outputId": "e5fd36a2-abb8-4fb2-9bdc-1fdfcc40644e"
      },
      "source": [
        "cd '/content/drive/MyDrive/student'"
      ],
      "execution_count": 15,
      "outputs": [
        {
          "output_type": "stream",
          "text": [
            "/content/drive/MyDrive/student\n"
          ],
          "name": "stdout"
        }
      ]
    },
    {
      "cell_type": "code",
      "metadata": {
        "colab": {
          "base_uri": "https://localhost:8080/"
        },
        "id": "oR69jwALs-uP",
        "outputId": "4f21ec83-d652-4a58-e778-d7f9ab9a6db0"
      },
      "source": [
        "ls"
      ],
      "execution_count": 7,
      "outputs": [
        {
          "output_type": "stream",
          "text": [
            "student-mat.csv  student-merge.R  student-por.csv  student.txt\n"
          ],
          "name": "stdout"
        }
      ]
    },
    {
      "cell_type": "code",
      "metadata": {
        "id": "0rYwvbeMtPJg"
      },
      "source": [
        "import os"
      ],
      "execution_count": 9,
      "outputs": []
    },
    {
      "cell_type": "code",
      "metadata": {
        "id": "cnGQRbmes_tZ"
      },
      "source": [
        "import pandas as pd #working with csv or excel files\n",
        "import numpy as np #working with numbers/ arrays/ tensors\n",
        "import tensorflow as tf #framework\n",
        "from tensorflow import keras #API / library \n",
        "import os #using os commands between the python language"
      ],
      "execution_count": 10,
      "outputs": []
    },
    {
      "cell_type": "code",
      "metadata": {
        "id": "VV-Ps6dJtX6B"
      },
      "source": [
        "mathData = pd.read_csv('student-mat.csv', sep=';') #load the csv file as dataframe"
      ],
      "execution_count": 11,
      "outputs": []
    },
    {
      "cell_type": "code",
      "metadata": {
        "colab": {
          "base_uri": "https://localhost:8080/",
          "height": 375
        },
        "id": "2_KId_bptr05",
        "outputId": "08c8c945-eff3-4a95-fa3f-5ba68cdfcb28"
      },
      "source": [
        "mathData.head(10) #print the first ten rows of the dataframe"
      ],
      "execution_count": 12,
      "outputs": [
        {
          "output_type": "execute_result",
          "data": {
            "text/html": [
              "<div>\n",
              "<style scoped>\n",
              "    .dataframe tbody tr th:only-of-type {\n",
              "        vertical-align: middle;\n",
              "    }\n",
              "\n",
              "    .dataframe tbody tr th {\n",
              "        vertical-align: top;\n",
              "    }\n",
              "\n",
              "    .dataframe thead th {\n",
              "        text-align: right;\n",
              "    }\n",
              "</style>\n",
              "<table border=\"1\" class=\"dataframe\">\n",
              "  <thead>\n",
              "    <tr style=\"text-align: right;\">\n",
              "      <th></th>\n",
              "      <th>school</th>\n",
              "      <th>sex</th>\n",
              "      <th>age</th>\n",
              "      <th>address</th>\n",
              "      <th>famsize</th>\n",
              "      <th>Pstatus</th>\n",
              "      <th>Medu</th>\n",
              "      <th>Fedu</th>\n",
              "      <th>Mjob</th>\n",
              "      <th>Fjob</th>\n",
              "      <th>reason</th>\n",
              "      <th>guardian</th>\n",
              "      <th>traveltime</th>\n",
              "      <th>studytime</th>\n",
              "      <th>failures</th>\n",
              "      <th>schoolsup</th>\n",
              "      <th>famsup</th>\n",
              "      <th>paid</th>\n",
              "      <th>activities</th>\n",
              "      <th>nursery</th>\n",
              "      <th>higher</th>\n",
              "      <th>internet</th>\n",
              "      <th>romantic</th>\n",
              "      <th>famrel</th>\n",
              "      <th>freetime</th>\n",
              "      <th>goout</th>\n",
              "      <th>Dalc</th>\n",
              "      <th>Walc</th>\n",
              "      <th>health</th>\n",
              "      <th>absences</th>\n",
              "      <th>G1</th>\n",
              "      <th>G2</th>\n",
              "      <th>G3</th>\n",
              "    </tr>\n",
              "  </thead>\n",
              "  <tbody>\n",
              "    <tr>\n",
              "      <th>0</th>\n",
              "      <td>GP</td>\n",
              "      <td>F</td>\n",
              "      <td>18</td>\n",
              "      <td>U</td>\n",
              "      <td>GT3</td>\n",
              "      <td>A</td>\n",
              "      <td>4</td>\n",
              "      <td>4</td>\n",
              "      <td>at_home</td>\n",
              "      <td>teacher</td>\n",
              "      <td>course</td>\n",
              "      <td>mother</td>\n",
              "      <td>2</td>\n",
              "      <td>2</td>\n",
              "      <td>0</td>\n",
              "      <td>yes</td>\n",
              "      <td>no</td>\n",
              "      <td>no</td>\n",
              "      <td>no</td>\n",
              "      <td>yes</td>\n",
              "      <td>yes</td>\n",
              "      <td>no</td>\n",
              "      <td>no</td>\n",
              "      <td>4</td>\n",
              "      <td>3</td>\n",
              "      <td>4</td>\n",
              "      <td>1</td>\n",
              "      <td>1</td>\n",
              "      <td>3</td>\n",
              "      <td>6</td>\n",
              "      <td>5</td>\n",
              "      <td>6</td>\n",
              "      <td>6</td>\n",
              "    </tr>\n",
              "    <tr>\n",
              "      <th>1</th>\n",
              "      <td>GP</td>\n",
              "      <td>F</td>\n",
              "      <td>17</td>\n",
              "      <td>U</td>\n",
              "      <td>GT3</td>\n",
              "      <td>T</td>\n",
              "      <td>1</td>\n",
              "      <td>1</td>\n",
              "      <td>at_home</td>\n",
              "      <td>other</td>\n",
              "      <td>course</td>\n",
              "      <td>father</td>\n",
              "      <td>1</td>\n",
              "      <td>2</td>\n",
              "      <td>0</td>\n",
              "      <td>no</td>\n",
              "      <td>yes</td>\n",
              "      <td>no</td>\n",
              "      <td>no</td>\n",
              "      <td>no</td>\n",
              "      <td>yes</td>\n",
              "      <td>yes</td>\n",
              "      <td>no</td>\n",
              "      <td>5</td>\n",
              "      <td>3</td>\n",
              "      <td>3</td>\n",
              "      <td>1</td>\n",
              "      <td>1</td>\n",
              "      <td>3</td>\n",
              "      <td>4</td>\n",
              "      <td>5</td>\n",
              "      <td>5</td>\n",
              "      <td>6</td>\n",
              "    </tr>\n",
              "    <tr>\n",
              "      <th>2</th>\n",
              "      <td>GP</td>\n",
              "      <td>F</td>\n",
              "      <td>15</td>\n",
              "      <td>U</td>\n",
              "      <td>LE3</td>\n",
              "      <td>T</td>\n",
              "      <td>1</td>\n",
              "      <td>1</td>\n",
              "      <td>at_home</td>\n",
              "      <td>other</td>\n",
              "      <td>other</td>\n",
              "      <td>mother</td>\n",
              "      <td>1</td>\n",
              "      <td>2</td>\n",
              "      <td>3</td>\n",
              "      <td>yes</td>\n",
              "      <td>no</td>\n",
              "      <td>yes</td>\n",
              "      <td>no</td>\n",
              "      <td>yes</td>\n",
              "      <td>yes</td>\n",
              "      <td>yes</td>\n",
              "      <td>no</td>\n",
              "      <td>4</td>\n",
              "      <td>3</td>\n",
              "      <td>2</td>\n",
              "      <td>2</td>\n",
              "      <td>3</td>\n",
              "      <td>3</td>\n",
              "      <td>10</td>\n",
              "      <td>7</td>\n",
              "      <td>8</td>\n",
              "      <td>10</td>\n",
              "    </tr>\n",
              "    <tr>\n",
              "      <th>3</th>\n",
              "      <td>GP</td>\n",
              "      <td>F</td>\n",
              "      <td>15</td>\n",
              "      <td>U</td>\n",
              "      <td>GT3</td>\n",
              "      <td>T</td>\n",
              "      <td>4</td>\n",
              "      <td>2</td>\n",
              "      <td>health</td>\n",
              "      <td>services</td>\n",
              "      <td>home</td>\n",
              "      <td>mother</td>\n",
              "      <td>1</td>\n",
              "      <td>3</td>\n",
              "      <td>0</td>\n",
              "      <td>no</td>\n",
              "      <td>yes</td>\n",
              "      <td>yes</td>\n",
              "      <td>yes</td>\n",
              "      <td>yes</td>\n",
              "      <td>yes</td>\n",
              "      <td>yes</td>\n",
              "      <td>yes</td>\n",
              "      <td>3</td>\n",
              "      <td>2</td>\n",
              "      <td>2</td>\n",
              "      <td>1</td>\n",
              "      <td>1</td>\n",
              "      <td>5</td>\n",
              "      <td>2</td>\n",
              "      <td>15</td>\n",
              "      <td>14</td>\n",
              "      <td>15</td>\n",
              "    </tr>\n",
              "    <tr>\n",
              "      <th>4</th>\n",
              "      <td>GP</td>\n",
              "      <td>F</td>\n",
              "      <td>16</td>\n",
              "      <td>U</td>\n",
              "      <td>GT3</td>\n",
              "      <td>T</td>\n",
              "      <td>3</td>\n",
              "      <td>3</td>\n",
              "      <td>other</td>\n",
              "      <td>other</td>\n",
              "      <td>home</td>\n",
              "      <td>father</td>\n",
              "      <td>1</td>\n",
              "      <td>2</td>\n",
              "      <td>0</td>\n",
              "      <td>no</td>\n",
              "      <td>yes</td>\n",
              "      <td>yes</td>\n",
              "      <td>no</td>\n",
              "      <td>yes</td>\n",
              "      <td>yes</td>\n",
              "      <td>no</td>\n",
              "      <td>no</td>\n",
              "      <td>4</td>\n",
              "      <td>3</td>\n",
              "      <td>2</td>\n",
              "      <td>1</td>\n",
              "      <td>2</td>\n",
              "      <td>5</td>\n",
              "      <td>4</td>\n",
              "      <td>6</td>\n",
              "      <td>10</td>\n",
              "      <td>10</td>\n",
              "    </tr>\n",
              "    <tr>\n",
              "      <th>5</th>\n",
              "      <td>GP</td>\n",
              "      <td>M</td>\n",
              "      <td>16</td>\n",
              "      <td>U</td>\n",
              "      <td>LE3</td>\n",
              "      <td>T</td>\n",
              "      <td>4</td>\n",
              "      <td>3</td>\n",
              "      <td>services</td>\n",
              "      <td>other</td>\n",
              "      <td>reputation</td>\n",
              "      <td>mother</td>\n",
              "      <td>1</td>\n",
              "      <td>2</td>\n",
              "      <td>0</td>\n",
              "      <td>no</td>\n",
              "      <td>yes</td>\n",
              "      <td>yes</td>\n",
              "      <td>yes</td>\n",
              "      <td>yes</td>\n",
              "      <td>yes</td>\n",
              "      <td>yes</td>\n",
              "      <td>no</td>\n",
              "      <td>5</td>\n",
              "      <td>4</td>\n",
              "      <td>2</td>\n",
              "      <td>1</td>\n",
              "      <td>2</td>\n",
              "      <td>5</td>\n",
              "      <td>10</td>\n",
              "      <td>15</td>\n",
              "      <td>15</td>\n",
              "      <td>15</td>\n",
              "    </tr>\n",
              "    <tr>\n",
              "      <th>6</th>\n",
              "      <td>GP</td>\n",
              "      <td>M</td>\n",
              "      <td>16</td>\n",
              "      <td>U</td>\n",
              "      <td>LE3</td>\n",
              "      <td>T</td>\n",
              "      <td>2</td>\n",
              "      <td>2</td>\n",
              "      <td>other</td>\n",
              "      <td>other</td>\n",
              "      <td>home</td>\n",
              "      <td>mother</td>\n",
              "      <td>1</td>\n",
              "      <td>2</td>\n",
              "      <td>0</td>\n",
              "      <td>no</td>\n",
              "      <td>no</td>\n",
              "      <td>no</td>\n",
              "      <td>no</td>\n",
              "      <td>yes</td>\n",
              "      <td>yes</td>\n",
              "      <td>yes</td>\n",
              "      <td>no</td>\n",
              "      <td>4</td>\n",
              "      <td>4</td>\n",
              "      <td>4</td>\n",
              "      <td>1</td>\n",
              "      <td>1</td>\n",
              "      <td>3</td>\n",
              "      <td>0</td>\n",
              "      <td>12</td>\n",
              "      <td>12</td>\n",
              "      <td>11</td>\n",
              "    </tr>\n",
              "    <tr>\n",
              "      <th>7</th>\n",
              "      <td>GP</td>\n",
              "      <td>F</td>\n",
              "      <td>17</td>\n",
              "      <td>U</td>\n",
              "      <td>GT3</td>\n",
              "      <td>A</td>\n",
              "      <td>4</td>\n",
              "      <td>4</td>\n",
              "      <td>other</td>\n",
              "      <td>teacher</td>\n",
              "      <td>home</td>\n",
              "      <td>mother</td>\n",
              "      <td>2</td>\n",
              "      <td>2</td>\n",
              "      <td>0</td>\n",
              "      <td>yes</td>\n",
              "      <td>yes</td>\n",
              "      <td>no</td>\n",
              "      <td>no</td>\n",
              "      <td>yes</td>\n",
              "      <td>yes</td>\n",
              "      <td>no</td>\n",
              "      <td>no</td>\n",
              "      <td>4</td>\n",
              "      <td>1</td>\n",
              "      <td>4</td>\n",
              "      <td>1</td>\n",
              "      <td>1</td>\n",
              "      <td>1</td>\n",
              "      <td>6</td>\n",
              "      <td>6</td>\n",
              "      <td>5</td>\n",
              "      <td>6</td>\n",
              "    </tr>\n",
              "    <tr>\n",
              "      <th>8</th>\n",
              "      <td>GP</td>\n",
              "      <td>M</td>\n",
              "      <td>15</td>\n",
              "      <td>U</td>\n",
              "      <td>LE3</td>\n",
              "      <td>A</td>\n",
              "      <td>3</td>\n",
              "      <td>2</td>\n",
              "      <td>services</td>\n",
              "      <td>other</td>\n",
              "      <td>home</td>\n",
              "      <td>mother</td>\n",
              "      <td>1</td>\n",
              "      <td>2</td>\n",
              "      <td>0</td>\n",
              "      <td>no</td>\n",
              "      <td>yes</td>\n",
              "      <td>yes</td>\n",
              "      <td>no</td>\n",
              "      <td>yes</td>\n",
              "      <td>yes</td>\n",
              "      <td>yes</td>\n",
              "      <td>no</td>\n",
              "      <td>4</td>\n",
              "      <td>2</td>\n",
              "      <td>2</td>\n",
              "      <td>1</td>\n",
              "      <td>1</td>\n",
              "      <td>1</td>\n",
              "      <td>0</td>\n",
              "      <td>16</td>\n",
              "      <td>18</td>\n",
              "      <td>19</td>\n",
              "    </tr>\n",
              "    <tr>\n",
              "      <th>9</th>\n",
              "      <td>GP</td>\n",
              "      <td>M</td>\n",
              "      <td>15</td>\n",
              "      <td>U</td>\n",
              "      <td>GT3</td>\n",
              "      <td>T</td>\n",
              "      <td>3</td>\n",
              "      <td>4</td>\n",
              "      <td>other</td>\n",
              "      <td>other</td>\n",
              "      <td>home</td>\n",
              "      <td>mother</td>\n",
              "      <td>1</td>\n",
              "      <td>2</td>\n",
              "      <td>0</td>\n",
              "      <td>no</td>\n",
              "      <td>yes</td>\n",
              "      <td>yes</td>\n",
              "      <td>yes</td>\n",
              "      <td>yes</td>\n",
              "      <td>yes</td>\n",
              "      <td>yes</td>\n",
              "      <td>no</td>\n",
              "      <td>5</td>\n",
              "      <td>5</td>\n",
              "      <td>1</td>\n",
              "      <td>1</td>\n",
              "      <td>1</td>\n",
              "      <td>5</td>\n",
              "      <td>0</td>\n",
              "      <td>14</td>\n",
              "      <td>15</td>\n",
              "      <td>15</td>\n",
              "    </tr>\n",
              "  </tbody>\n",
              "</table>\n",
              "</div>"
            ],
            "text/plain": [
              "  school sex  age address famsize Pstatus  ...  Walc  health absences  G1  G2  G3\n",
              "0     GP   F   18       U     GT3       A  ...     1       3        6   5   6   6\n",
              "1     GP   F   17       U     GT3       T  ...     1       3        4   5   5   6\n",
              "2     GP   F   15       U     LE3       T  ...     3       3       10   7   8  10\n",
              "3     GP   F   15       U     GT3       T  ...     1       5        2  15  14  15\n",
              "4     GP   F   16       U     GT3       T  ...     2       5        4   6  10  10\n",
              "5     GP   M   16       U     LE3       T  ...     2       5       10  15  15  15\n",
              "6     GP   M   16       U     LE3       T  ...     1       3        0  12  12  11\n",
              "7     GP   F   17       U     GT3       A  ...     1       1        6   6   5   6\n",
              "8     GP   M   15       U     LE3       A  ...     1       1        0  16  18  19\n",
              "9     GP   M   15       U     GT3       T  ...     1       5        0  14  15  15\n",
              "\n",
              "[10 rows x 33 columns]"
            ]
          },
          "metadata": {
            "tags": []
          },
          "execution_count": 12
        }
      ]
    },
    {
      "cell_type": "markdown",
      "metadata": {
        "id": "i2bal50yG_PZ"
      },
      "source": [
        "We are just going to consider the columns `G1` and `G3` for univariate linear regression"
      ]
    },
    {
      "cell_type": "code",
      "metadata": {
        "colab": {
          "base_uri": "https://localhost:8080/",
          "height": 202
        },
        "id": "Yw0PNCuTSEDC",
        "outputId": "2ced7eaa-9d61-40e9-c06b-1d084c3a11b8"
      },
      "source": [
        "uniMathData = mathData[['G1', 'G3']]\n",
        "uniMathData.head(5)"
      ],
      "execution_count": 13,
      "outputs": [
        {
          "output_type": "execute_result",
          "data": {
            "text/html": [
              "<div>\n",
              "<style scoped>\n",
              "    .dataframe tbody tr th:only-of-type {\n",
              "        vertical-align: middle;\n",
              "    }\n",
              "\n",
              "    .dataframe tbody tr th {\n",
              "        vertical-align: top;\n",
              "    }\n",
              "\n",
              "    .dataframe thead th {\n",
              "        text-align: right;\n",
              "    }\n",
              "</style>\n",
              "<table border=\"1\" class=\"dataframe\">\n",
              "  <thead>\n",
              "    <tr style=\"text-align: right;\">\n",
              "      <th></th>\n",
              "      <th>G1</th>\n",
              "      <th>G3</th>\n",
              "    </tr>\n",
              "  </thead>\n",
              "  <tbody>\n",
              "    <tr>\n",
              "      <th>0</th>\n",
              "      <td>5</td>\n",
              "      <td>6</td>\n",
              "    </tr>\n",
              "    <tr>\n",
              "      <th>1</th>\n",
              "      <td>5</td>\n",
              "      <td>6</td>\n",
              "    </tr>\n",
              "    <tr>\n",
              "      <th>2</th>\n",
              "      <td>7</td>\n",
              "      <td>10</td>\n",
              "    </tr>\n",
              "    <tr>\n",
              "      <th>3</th>\n",
              "      <td>15</td>\n",
              "      <td>15</td>\n",
              "    </tr>\n",
              "    <tr>\n",
              "      <th>4</th>\n",
              "      <td>6</td>\n",
              "      <td>10</td>\n",
              "    </tr>\n",
              "  </tbody>\n",
              "</table>\n",
              "</div>"
            ],
            "text/plain": [
              "   G1  G3\n",
              "0   5   6\n",
              "1   5   6\n",
              "2   7  10\n",
              "3  15  15\n",
              "4   6  10"
            ]
          },
          "metadata": {
            "tags": []
          },
          "execution_count": 13
        }
      ]
    },
    {
      "cell_type": "code",
      "metadata": {
        "id": "eyzP9mL4Hmb5"
      },
      "source": [
        "uniMathData.to_csv('univariate_MathData_2.csv')"
      ],
      "execution_count": 14,
      "outputs": []
    },
    {
      "cell_type": "code",
      "metadata": {
        "colab": {
          "base_uri": "https://localhost:8080/"
        },
        "id": "I-3qK_nNxnTA",
        "outputId": "123ffcf8-6559-4497-a7e4-56e4f03d1437"
      },
      "source": [
        "ls"
      ],
      "execution_count": null,
      "outputs": [
        {
          "output_type": "stream",
          "text": [
            "cleanedMathData.csv          student-mat.csv  student.txt\n",
            "model_01.h5                  student-merge.R  univariate_MathData_2.csv\n",
            "multivariate_MathData_2.csv  student-por.csv\n"
          ],
          "name": "stdout"
        }
      ]
    },
    {
      "cell_type": "markdown",
      "metadata": {
        "id": "ImV3p6AKxszU"
      },
      "source": [
        "## Data visualization"
      ]
    },
    {
      "cell_type": "code",
      "metadata": {
        "colab": {
          "base_uri": "https://localhost:8080/",
          "height": 157
        },
        "id": "RqumcsZLxq4v",
        "outputId": "9d014fc6-bdd0-4f13-dec9-4d3715dd3a66"
      },
      "source": [
        "import seaborn as sns\n",
        "sns.palplot(sns.color_palette('PuOr')) #Purple to Orange colors\n",
        "pal = sns.color_palette('PuOr', 6) #print 6 color shades from Purple to Orange\n",
        "pal.as_hex() #set hex code values for colors\n",
        "\n",
        "import matplotlib.pyplot as plt\n",
        "plt.style.use(['seaborn'])\n",
        "sns_colors = ['#c6690c', '#664697'] #orange Purple hex codes\n",
        "sns.set_palette(sns_colors) #set the palette as sns_colors \n",
        "sns.palplot(sns.color_palette(sns_colors)) #plot the color codes"
      ],
      "execution_count": null,
      "outputs": [
        {
          "output_type": "display_data",
          "data": {
            "image/png": "[encoded data removed]",
            "text/plain": [
              "<Figure size 432x72 with 1 Axes>"
            ]
          },
          "metadata": {
            "tags": []
          }
        },
        {
          "output_type": "display_data",
          "data": {
            "image/png": "[encoded data removed]",
            "text/plain": [
              "<Figure size 144x72 with 1 Axes>"
            ]
          },
          "metadata": {
            "tags": []
          }
        }
      ]
    },
    {
      "cell_type": "code",
      "metadata": {
        "colab": {
          "base_uri": "https://localhost:8080/"
        },
        "id": "A6MT5E8Fy7MZ",
        "outputId": "e6e0558b-cfc8-47f2-f3ad-ab81726c092e"
      },
      "source": [
        "uniMathData.columns #columns in the dataframe"
      ],
      "execution_count": null,
      "outputs": [
        {
          "output_type": "execute_result",
          "data": {
            "text/plain": [
              "Index(['G1', 'G3'], dtype='object')"
            ]
          },
          "metadata": {
            "tags": []
          },
          "execution_count": 12
        }
      ]
    },
    {
      "cell_type": "code",
      "metadata": {
        "colab": {
          "base_uri": "https://localhost:8080/",
          "height": 391
        },
        "id": "PrsTwdHHzBbk",
        "outputId": "52dbe038-6dc7-4b8c-a91c-3c603a237c44"
      },
      "source": [
        "#pairplot for all the values\n",
        "\n",
        "sns.pairplot(uniMathData,\n",
        "             x_vars = ['G1', 'G3'],\n",
        "             y_vars =  ['G1', 'G3'],\n",
        "       diag_kind='kde'\n",
        "             )"
      ],
      "execution_count": null,
      "outputs": [
        {
          "output_type": "execute_result",
          "data": {
            "text/plain": [
              "<seaborn.axisgrid.PairGrid at 0x7fe4e3654310>"
            ]
          },
          "metadata": {
            "tags": []
          },
          "execution_count": 13
        },
        {
          "output_type": "display_data",
          "data": {
            "image/png": "[encoded data removed]",
            "text/plain": [
              "<Figure size 360x360 with 6 Axes>"
            ]
          },
          "metadata": {
            "tags": []
          }
        }
      ]
    },
    {
      "cell_type": "markdown",
      "metadata": {
        "id": "Klm33YcpKZkl"
      },
      "source": [
        "## Data Splits"
      ]
    },
    {
      "cell_type": "code",
      "metadata": {
        "colab": {
          "base_uri": "https://localhost:8080/"
        },
        "id": "UwrSOCKS1NhN",
        "outputId": "914cf2d3-dabd-4cd8-a197-6075b1cadf3d"
      },
      "source": [
        "#80-20 train-test percent split\n",
        "\n",
        "trainDataset = uniMathData.sample(frac=0.8, random_state=0) \n",
        "testDataset = uniMathData.drop(trainDataset.index)\n",
        "\n",
        "print(trainDataset.head())\n",
        "print(testDataset.head())"
      ],
      "execution_count": null,
      "outputs": [
        {
          "output_type": "stream",
          "text": [
            "     G1  G3\n",
            "329  14  14\n",
            "318  11  10\n",
            "317   9   9\n",
            "65   16  15\n",
            "59   15  16\n",
            "    G1  G3\n",
            "9   14  15\n",
            "25   6   8\n",
            "28  11  11\n",
            "31  17  17\n",
            "32  17  16\n"
          ],
          "name": "stdout"
        }
      ]
    },
    {
      "cell_type": "code",
      "metadata": {
        "colab": {
          "base_uri": "https://localhost:8080/"
        },
        "id": "YWO2xRV53wV-",
        "outputId": "2e9cfc16-b48f-472b-f63d-0bdbcbd4d6de"
      },
      "source": [
        "print(trainDataset.shape)\n",
        "print(testDataset.shape)"
      ],
      "execution_count": null,
      "outputs": [
        {
          "output_type": "stream",
          "text": [
            "(316, 2)\n",
            "(79, 2)\n"
          ],
          "name": "stdout"
        }
      ]
    },
    {
      "cell_type": "code",
      "metadata": {
        "colab": {
          "base_uri": "https://localhost:8080/"
        },
        "id": "OmDTbvMC32hg",
        "outputId": "01cea53b-fa47-456e-ab31-93ee3b7cec19"
      },
      "source": [
        "#copy the trainDataset dataframe for getting the features\n",
        "\n",
        "trainFeatures = trainDataset.copy()\n",
        "testFeatures = testDataset.copy()\n",
        "\n",
        "print(trainFeatures.head())\n",
        "print(testFeatures.head())"
      ],
      "execution_count": null,
      "outputs": [
        {
          "output_type": "stream",
          "text": [
            "     G1  G3\n",
            "329  14  14\n",
            "318  11  10\n",
            "317   9   9\n",
            "65   16  15\n",
            "59   15  16\n",
            "    G1  G3\n",
            "9   14  15\n",
            "25   6   8\n",
            "28  11  11\n",
            "31  17  17\n",
            "32  17  16\n"
          ],
          "name": "stdout"
        }
      ]
    },
    {
      "cell_type": "code",
      "metadata": {
        "colab": {
          "base_uri": "https://localhost:8080/"
        },
        "id": "jSR0_uni4ayh",
        "outputId": "c9a27ef9-a0d0-4aaa-f6e2-bbe63dff2832"
      },
      "source": [
        "#removing the G3 column and saving it into the labels variable\n",
        "\n",
        "trainLabels = trainFeatures.pop('G3')\n",
        "testLabels = testFeatures.pop('G3')\n",
        "\n",
        "print(trainLabels.head())\n",
        "print(testLabels.head())"
      ],
      "execution_count": null,
      "outputs": [
        {
          "output_type": "stream",
          "text": [
            "329    14\n",
            "318    10\n",
            "317     9\n",
            "65     15\n",
            "59     16\n",
            "Name: G3, dtype: int64\n",
            "9     15\n",
            "25     8\n",
            "28    11\n",
            "31    17\n",
            "32    16\n",
            "Name: G3, dtype: int64\n"
          ],
          "name": "stdout"
        }
      ]
    },
    {
      "cell_type": "code",
      "metadata": {
        "colab": {
          "base_uri": "https://localhost:8080/"
        },
        "id": "HnGSqb-q4wk8",
        "outputId": "8971398a-e993-402a-e906-4867a77c4068"
      },
      "source": [
        "print(trainFeatures.head())\n",
        "print(testFeatures.head())"
      ],
      "execution_count": null,
      "outputs": [
        {
          "output_type": "stream",
          "text": [
            "     G1\n",
            "329  14\n",
            "318  11\n",
            "317   9\n",
            "65   16\n",
            "59   15\n",
            "    G1\n",
            "9   14\n",
            "25   6\n",
            "28  11\n",
            "31  17\n",
            "32  17\n"
          ],
          "name": "stdout"
        }
      ]
    },
    {
      "cell_type": "code",
      "metadata": {
        "id": "XPTSq34jk4o_"
      },
      "source": [
        "# univariate -> num(features) = 1\n",
        "# multvariate -> num(features) > 1 = 11\n",
        "\n",
        "\n",
        "model = tf.keras.Sequential([\n",
        "                             tf.keras.layers.Dense(1)\n",
        "\n",
        "])"
      ],
      "execution_count": null,
      "outputs": []
    },
    {
      "cell_type": "code",
      "metadata": {
        "id": "4C4GKBdE6iCE"
      },
      "source": [
        "model.compile(\n",
        "    loss = 'mean_absolute_error',\n",
        "    optimizer = tf.keras.optimizers.Adam(0.001),\n",
        "    metrics = ['mae', 'mse']\n",
        ")"
      ],
      "execution_count": null,
      "outputs": []
    },
    {
      "cell_type": "code",
      "metadata": {
        "colab": {
          "base_uri": "https://localhost:8080/"
        },
        "id": "d_A7DrhB6zvm",
        "outputId": "13e80694-1410-4d68-f469-7f6debe6904b"
      },
      "source": [
        "numEpochs = 200\n",
        "history = model.fit(x = trainFeatures, y = trainLabels, validation_data = (testFeatures, testLabels), epochs = numEpochs)"
      ],
      "execution_count": null,
      "outputs": [
        {
          "output_type": "stream",
          "text": [
            "Epoch 1/200\n",
            "10/10 [==============================] - 1s 19ms/step - loss: 23.4178 - mae: 23.4178 - mse: 613.7864 - val_loss: 24.7572 - val_mae: 24.7572 - val_mse: 683.7087\n",
            "Epoch 2/200\n",
            "10/10 [==============================] - 0s 3ms/step - loss: 23.3001 - mae: 23.3001 - mse: 607.8264 - val_loss: 24.6328 - val_mae: 24.6328 - val_mse: 677.0169\n",
            "Epoch 3/200\n",
            "10/10 [==============================] - 0s 3ms/step - loss: 23.1830 - mae: 23.1830 - mse: 601.8898 - val_loss: 24.5083 - val_mae: 24.5083 - val_mse: 670.3491\n",
            "Epoch 4/200\n",
            "10/10 [==============================] - 0s 3ms/step - loss: 23.0648 - mae: 23.0648 - mse: 595.9070 - val_loss: 24.3843 - val_mae: 24.3843 - val_mse: 663.7401\n",
            "Epoch 5/200\n",
            "10/10 [==============================] - 0s 3ms/step - loss: 22.9473 - mae: 22.9473 - mse: 589.9949 - val_loss: 24.2599 - val_mae: 24.2599 - val_mse: 657.1481\n",
            "Epoch 6/200\n",
            "10/10 [==============================] - 0s 3ms/step - loss: 22.8306 - mae: 22.8306 - mse: 584.2115 - val_loss: 24.1348 - val_mae: 24.1348 - val_mse: 650.5479\n",
            "Epoch 7/200\n",
            "10/10 [==============================] - 0s 3ms/step - loss: 22.7121 - mae: 22.7121 - mse: 578.2938 - val_loss: 24.0106 - val_mae: 24.0106 - val_mse: 644.0280\n",
            "Epoch 8/200\n",
            "10/10 [==============================] - 0s 4ms/step - loss: 22.5949 - mae: 22.5949 - mse: 572.5060 - val_loss: 23.8859 - val_mae: 23.8859 - val_mse: 637.5176\n",
            "Epoch 9/200\n",
            "10/10 [==============================] - 0s 4ms/step - loss: 22.4775 - mae: 22.4775 - mse: 566.7589 - val_loss: 23.7610 - val_mae: 23.7610 - val_mse: 631.0342\n",
            "Epoch 10/200\n",
            "10/10 [==============================] - 0s 3ms/step - loss: 22.3600 - mae: 22.3600 - mse: 561.0069 - val_loss: 23.6363 - val_mae: 23.6363 - val_mse: 624.5867\n",
            "Epoch 11/200\n",
            "10/10 [==============================] - 0s 3ms/step - loss: 22.2417 - mae: 22.2417 - mse: 555.2365 - val_loss: 23.5122 - val_mae: 23.5122 - val_mse: 618.2086\n",
            "Epoch 12/200\n",
            "10/10 [==============================] - 0s 3ms/step - loss: 22.1244 - mae: 22.1244 - mse: 549.5458 - val_loss: 23.3878 - val_mae: 23.3878 - val_mse: 611.8475\n",
            "Epoch 13/200\n",
            "10/10 [==============================] - 0s 4ms/step - loss: 22.0070 - mae: 22.0070 - mse: 543.8955 - val_loss: 23.2632 - val_mae: 23.2632 - val_mse: 605.5082\n",
            "Epoch 14/200\n",
            "10/10 [==============================] - 0s 4ms/step - loss: 21.8891 - mae: 21.8891 - mse: 538.2427 - val_loss: 23.1389 - val_mae: 23.1389 - val_mse: 599.2173\n",
            "Epoch 15/200\n",
            "10/10 [==============================] - 0s 3ms/step - loss: 21.7722 - mae: 21.7722 - mse: 532.7233 - val_loss: 23.0138 - val_mae: 23.0138 - val_mse: 592.9213\n",
            "Epoch 16/200\n",
            "10/10 [==============================] - 0s 3ms/step - loss: 21.6543 - mae: 21.6543 - mse: 527.1270 - val_loss: 22.8891 - val_mae: 22.8891 - val_mse: 586.6789\n",
            "Epoch 17/200\n",
            "10/10 [==============================] - 0s 4ms/step - loss: 21.5361 - mae: 21.5361 - mse: 521.5046 - val_loss: 22.7650 - val_mae: 22.7650 - val_mse: 580.4981\n",
            "Epoch 18/200\n",
            "10/10 [==============================] - 0s 3ms/step - loss: 21.4197 - mae: 21.4197 - mse: 516.1290 - val_loss: 22.6397 - val_mae: 22.6397 - val_mse: 574.2943\n",
            "Epoch 19/200\n",
            "10/10 [==============================] - 0s 3ms/step - loss: 21.3010 - mae: 21.3010 - mse: 510.5351 - val_loss: 22.5158 - val_mae: 22.5158 - val_mse: 568.1900\n",
            "Epoch 20/200\n",
            "10/10 [==============================] - 0s 3ms/step - loss: 21.1847 - mae: 21.1847 - mse: 505.2317 - val_loss: 22.3906 - val_mae: 22.3906 - val_mse: 562.0547\n",
            "Epoch 21/200\n",
            "10/10 [==============================] - 0s 3ms/step - loss: 21.0663 - mae: 21.0663 - mse: 499.7129 - val_loss: 22.2662 - val_mae: 22.2662 - val_mse: 555.9954\n",
            "Epoch 22/200\n",
            "10/10 [==============================] - 0s 4ms/step - loss: 20.9496 - mae: 20.9496 - mse: 494.4230 - val_loss: 22.1411 - val_mae: 22.1411 - val_mse: 549.9316\n",
            "Epoch 23/200\n",
            "10/10 [==============================] - 0s 5ms/step - loss: 20.8311 - mae: 20.8311 - mse: 488.9396 - val_loss: 22.0172 - val_mae: 22.0172 - val_mse: 543.9598\n",
            "Epoch 24/200\n",
            "10/10 [==============================] - 0s 4ms/step - loss: 20.7136 - mae: 20.7136 - mse: 483.6149 - val_loss: 21.8932 - val_mae: 21.8932 - val_mse: 538.0172\n",
            "Epoch 25/200\n",
            "10/10 [==============================] - 0s 3ms/step - loss: 20.5966 - mae: 20.5966 - mse: 478.3658 - val_loss: 21.7686 - val_mae: 21.7686 - val_mse: 532.0791\n",
            "Epoch 26/200\n",
            "10/10 [==============================] - 0s 4ms/step - loss: 20.4791 - mae: 20.4791 - mse: 473.0956 - val_loss: 21.6438 - val_mae: 21.6438 - val_mse: 526.1653\n",
            "Epoch 27/200\n",
            "10/10 [==============================] - 0s 4ms/step - loss: 20.3611 - mae: 20.3611 - mse: 467.7998 - val_loss: 21.5195 - val_mae: 21.5195 - val_mse: 520.3079\n",
            "Epoch 28/200\n",
            "10/10 [==============================] - 0s 4ms/step - loss: 20.2442 - mae: 20.2442 - mse: 462.6502 - val_loss: 21.3944 - val_mae: 21.3944 - val_mse: 514.4504\n",
            "Epoch 29/200\n",
            "10/10 [==============================] - 0s 4ms/step - loss: 20.1265 - mae: 20.1265 - mse: 457.4829 - val_loss: 21.2699 - val_mae: 21.2699 - val_mse: 508.6484\n",
            "Epoch 30/200\n",
            "10/10 [==============================] - 0s 4ms/step - loss: 20.0080 - mae: 20.0080 - mse: 452.2438 - val_loss: 21.1462 - val_mae: 21.1462 - val_mse: 502.9198\n",
            "Epoch 31/200\n",
            "10/10 [==============================] - 0s 4ms/step - loss: 19.8918 - mae: 19.8918 - mse: 447.2203 - val_loss: 21.0211 - val_mae: 21.0211 - val_mse: 497.1603\n",
            "Epoch 32/200\n",
            "10/10 [==============================] - 0s 3ms/step - loss: 19.7735 - mae: 19.7735 - mse: 442.0694 - val_loss: 20.8968 - val_mae: 20.8968 - val_mse: 491.4692\n",
            "Epoch 33/200\n",
            "10/10 [==============================] - 0s 4ms/step - loss: 19.6561 - mae: 19.6561 - mse: 437.0059 - val_loss: 20.7724 - val_mae: 20.7724 - val_mse: 485.8057\n",
            "Epoch 34/200\n",
            "10/10 [==============================] - 0s 4ms/step - loss: 19.5385 - mae: 19.5385 - mse: 431.9718 - val_loss: 20.6481 - val_mae: 20.6481 - val_mse: 480.1806\n",
            "Epoch 35/200\n",
            "10/10 [==============================] - 0s 3ms/step - loss: 19.4218 - mae: 19.4218 - mse: 427.0494 - val_loss: 20.5229 - val_mae: 20.5229 - val_mse: 474.5524\n",
            "Epoch 36/200\n",
            "10/10 [==============================] - 0s 3ms/step - loss: 19.3028 - mae: 19.3028 - mse: 421.9258 - val_loss: 20.3994 - val_mae: 20.3994 - val_mse: 469.0295\n",
            "Epoch 37/200\n",
            "10/10 [==============================] - 0s 4ms/step - loss: 19.1862 - mae: 19.1862 - mse: 417.0444 - val_loss: 20.2747 - val_mae: 20.2747 - val_mse: 463.4890\n",
            "Epoch 38/200\n",
            "10/10 [==============================] - 0s 4ms/step - loss: 19.0688 - mae: 19.0688 - mse: 412.1431 - val_loss: 20.1500 - val_mae: 20.1500 - val_mse: 457.9775\n",
            "Epoch 39/200\n",
            "10/10 [==============================] - 0s 4ms/step - loss: 18.9511 - mae: 18.9511 - mse: 407.2843 - val_loss: 20.0255 - val_mae: 20.0255 - val_mse: 452.5120\n",
            "Epoch 40/200\n",
            "10/10 [==============================] - 0s 4ms/step - loss: 18.8338 - mae: 18.8338 - mse: 402.4643 - val_loss: 19.9007 - val_mae: 19.9007 - val_mse: 447.0658\n",
            "Epoch 41/200\n",
            "10/10 [==============================] - 0s 3ms/step - loss: 18.7161 - mae: 18.7161 - mse: 397.5884 - val_loss: 19.7762 - val_mae: 19.7762 - val_mse: 441.6644\n",
            "Epoch 42/200\n",
            "10/10 [==============================] - 0s 3ms/step - loss: 18.5988 - mae: 18.5988 - mse: 392.8484 - val_loss: 19.6514 - val_mae: 19.6514 - val_mse: 436.2867\n",
            "Epoch 43/200\n",
            "10/10 [==============================] - 0s 4ms/step - loss: 18.4811 - mae: 18.4811 - mse: 388.0766 - val_loss: 19.5268 - val_mae: 19.5268 - val_mse: 430.9499\n",
            "Epoch 44/200\n",
            "10/10 [==============================] - 0s 3ms/step - loss: 18.3632 - mae: 18.3632 - mse: 383.2771 - val_loss: 19.4027 - val_mae: 19.4027 - val_mse: 425.6682\n",
            "Epoch 45/200\n",
            "10/10 [==============================] - 0s 4ms/step - loss: 18.2456 - mae: 18.2456 - mse: 378.5437 - val_loss: 19.2787 - val_mae: 19.2787 - val_mse: 420.4218\n",
            "Epoch 46/200\n",
            "10/10 [==============================] - 0s 3ms/step - loss: 18.1288 - mae: 18.1288 - mse: 373.9473 - val_loss: 19.1537 - val_mae: 19.1537 - val_mse: 415.1702\n",
            "Epoch 47/200\n",
            "10/10 [==============================] - 0s 4ms/step - loss: 18.0103 - mae: 18.0103 - mse: 369.2065 - val_loss: 19.0297 - val_mae: 19.0297 - val_mse: 409.9890\n",
            "Epoch 48/200\n",
            "10/10 [==============================] - 0s 3ms/step - loss: 17.8936 - mae: 17.8936 - mse: 364.6667 - val_loss: 18.9047 - val_mae: 18.9047 - val_mse: 404.8019\n",
            "Epoch 49/200\n",
            "10/10 [==============================] - 0s 4ms/step - loss: 17.7754 - mae: 17.7754 - mse: 360.0227 - val_loss: 18.7803 - val_mae: 18.7803 - val_mse: 399.6750\n",
            "Epoch 50/200\n",
            "10/10 [==============================] - 0s 4ms/step - loss: 17.6580 - mae: 17.6580 - mse: 355.4896 - val_loss: 18.6559 - val_mae: 18.6559 - val_mse: 394.5771\n",
            "Epoch 51/200\n",
            "10/10 [==============================] - 0s 4ms/step - loss: 17.5405 - mae: 17.5405 - mse: 350.9515 - val_loss: 18.5314 - val_mae: 18.5314 - val_mse: 389.5117\n",
            "Epoch 52/200\n",
            "10/10 [==============================] - 0s 4ms/step - loss: 17.4231 - mae: 17.4231 - mse: 346.4890 - val_loss: 18.4069 - val_mae: 18.4069 - val_mse: 384.4773\n",
            "Epoch 53/200\n",
            "10/10 [==============================] - 0s 3ms/step - loss: 17.3062 - mae: 17.3062 - mse: 342.0736 - val_loss: 18.2817 - val_mae: 18.2817 - val_mse: 379.4507\n",
            "Epoch 54/200\n",
            "10/10 [==============================] - 0s 3ms/step - loss: 17.1881 - mae: 17.1881 - mse: 337.6206 - val_loss: 18.1571 - val_mae: 18.1571 - val_mse: 374.4809\n",
            "Epoch 55/200\n",
            "10/10 [==============================] - 0s 3ms/step - loss: 17.0709 - mae: 17.0709 - mse: 333.2526 - val_loss: 18.0322 - val_mae: 18.0322 - val_mse: 369.5303\n",
            "Epoch 56/200\n",
            "10/10 [==============================] - 0s 3ms/step - loss: 16.9527 - mae: 16.9527 - mse: 328.8000 - val_loss: 17.9080 - val_mae: 17.9080 - val_mse: 364.6455\n",
            "Epoch 57/200\n",
            "10/10 [==============================] - 0s 3ms/step - loss: 16.8353 - mae: 16.8353 - mse: 324.4438 - val_loss: 17.7839 - val_mae: 17.7839 - val_mse: 359.7946\n",
            "Epoch 58/200\n",
            "10/10 [==============================] - 0s 4ms/step - loss: 16.7182 - mae: 16.7182 - mse: 320.1654 - val_loss: 17.6594 - val_mae: 17.6594 - val_mse: 354.9598\n",
            "Epoch 59/200\n",
            "10/10 [==============================] - 0s 3ms/step - loss: 16.5995 - mae: 16.5995 - mse: 315.7456 - val_loss: 17.5360 - val_mae: 17.5360 - val_mse: 350.2023\n",
            "Epoch 60/200\n",
            "10/10 [==============================] - 0s 4ms/step - loss: 16.4841 - mae: 16.4841 - mse: 311.6529 - val_loss: 17.4103 - val_mae: 17.4103 - val_mse: 345.3915\n",
            "Epoch 61/200\n",
            "10/10 [==============================] - 0s 4ms/step - loss: 16.3651 - mae: 16.3651 - mse: 307.3466 - val_loss: 17.2862 - val_mae: 17.2862 - val_mse: 340.6731\n",
            "Epoch 62/200\n",
            "10/10 [==============================] - 0s 4ms/step - loss: 16.2478 - mae: 16.2478 - mse: 303.1282 - val_loss: 17.1618 - val_mae: 17.1618 - val_mse: 335.9760\n",
            "Epoch 63/200\n",
            "10/10 [==============================] - 0s 4ms/step - loss: 16.1308 - mae: 16.1308 - mse: 299.0265 - val_loss: 17.0367 - val_mae: 17.0367 - val_mse: 331.2875\n",
            "Epoch 64/200\n",
            "10/10 [==============================] - 0s 4ms/step - loss: 16.0130 - mae: 16.0130 - mse: 294.8844 - val_loss: 16.9120 - val_mae: 16.9120 - val_mse: 326.6475\n",
            "Epoch 65/200\n",
            "10/10 [==============================] - 0s 3ms/step - loss: 15.8950 - mae: 15.8950 - mse: 290.7357 - val_loss: 16.7877 - val_mae: 16.7877 - val_mse: 322.0580\n",
            "Epoch 66/200\n",
            "10/10 [==============================] - 0s 3ms/step - loss: 15.7771 - mae: 15.7771 - mse: 286.6106 - val_loss: 16.6637 - val_mae: 16.6637 - val_mse: 317.5104\n",
            "Epoch 67/200\n",
            "10/10 [==============================] - 0s 3ms/step - loss: 15.6605 - mae: 15.6605 - mse: 282.6224 - val_loss: 16.5387 - val_mae: 16.5387 - val_mse: 312.9578\n",
            "Epoch 68/200\n",
            "10/10 [==============================] - 0s 6ms/step - loss: 15.5420 - mae: 15.5420 - mse: 278.5372 - val_loss: 16.4146 - val_mae: 16.4146 - val_mse: 308.4725\n",
            "Epoch 69/200\n",
            "10/10 [==============================] - 0s 3ms/step - loss: 15.4249 - mae: 15.4249 - mse: 274.5751 - val_loss: 16.2900 - val_mae: 16.2900 - val_mse: 304.0034\n",
            "Epoch 70/200\n",
            "10/10 [==============================] - 0s 4ms/step - loss: 15.3077 - mae: 15.3077 - mse: 270.6656 - val_loss: 16.1651 - val_mae: 16.1651 - val_mse: 299.5559\n",
            "Epoch 71/200\n",
            "10/10 [==============================] - 0s 4ms/step - loss: 15.1895 - mae: 15.1895 - mse: 266.6685 - val_loss: 16.0409 - val_mae: 16.0409 - val_mse: 295.1660\n",
            "Epoch 72/200\n",
            "10/10 [==============================] - 0s 4ms/step - loss: 15.0725 - mae: 15.0725 - mse: 262.8298 - val_loss: 15.9160 - val_mae: 15.9160 - val_mse: 290.7856\n",
            "Epoch 73/200\n",
            "10/10 [==============================] - 0s 4ms/step - loss: 14.9543 - mae: 14.9543 - mse: 258.8690 - val_loss: 15.7918 - val_mae: 15.7918 - val_mse: 286.4637\n",
            "Epoch 74/200\n",
            "10/10 [==============================] - 0s 3ms/step - loss: 14.8368 - mae: 14.8368 - mse: 255.0495 - val_loss: 15.6675 - val_mae: 15.6675 - val_mse: 282.1706\n",
            "Epoch 75/200\n",
            "10/10 [==============================] - 0s 3ms/step - loss: 14.7199 - mae: 14.7199 - mse: 251.2946 - val_loss: 15.5426 - val_mae: 15.5426 - val_mse: 277.8907\n",
            "Epoch 76/200\n",
            "10/10 [==============================] - 0s 4ms/step - loss: 14.6020 - mae: 14.6020 - mse: 247.4856 - val_loss: 15.4179 - val_mae: 15.4179 - val_mse: 273.6519\n",
            "Epoch 77/200\n",
            "10/10 [==============================] - 0s 3ms/step - loss: 14.4844 - mae: 14.4844 - mse: 243.7219 - val_loss: 15.2933 - val_mae: 15.2933 - val_mse: 269.4498\n",
            "Epoch 78/200\n",
            "10/10 [==============================] - 0s 3ms/step - loss: 14.3671 - mae: 14.3671 - mse: 240.0193 - val_loss: 15.1684 - val_mae: 15.1684 - val_mse: 265.2697\n",
            "Epoch 79/200\n",
            "10/10 [==============================] - 0s 3ms/step - loss: 14.2483 - mae: 14.2483 - mse: 236.2490 - val_loss: 15.0447 - val_mae: 15.0447 - val_mse: 261.1639\n",
            "Epoch 80/200\n",
            "10/10 [==============================] - 0s 4ms/step - loss: 14.1321 - mae: 14.1321 - mse: 232.6672 - val_loss: 14.9195 - val_mae: 14.9195 - val_mse: 257.0426\n",
            "Epoch 81/200\n",
            "10/10 [==============================] - 0s 3ms/step - loss: 14.0142 - mae: 14.0142 - mse: 229.0144 - val_loss: 14.7948 - val_mae: 14.7948 - val_mse: 252.9713\n",
            "Epoch 82/200\n",
            "10/10 [==============================] - 0s 4ms/step - loss: 13.8958 - mae: 13.8958 - mse: 225.3391 - val_loss: 14.6711 - val_mae: 14.6711 - val_mse: 248.9640\n",
            "Epoch 83/200\n",
            "10/10 [==============================] - 0s 4ms/step - loss: 13.7795 - mae: 13.7795 - mse: 221.8541 - val_loss: 14.5460 - val_mae: 14.5460 - val_mse: 244.9451\n",
            "Epoch 84/200\n",
            "10/10 [==============================] - 0s 3ms/step - loss: 13.6613 - mae: 13.6613 - mse: 218.2751 - val_loss: 14.4217 - val_mae: 14.4217 - val_mse: 240.9849\n",
            "Epoch 85/200\n",
            "10/10 [==============================] - 0s 3ms/step - loss: 13.5444 - mae: 13.5444 - mse: 214.7952 - val_loss: 14.2969 - val_mae: 14.2969 - val_mse: 237.0422\n",
            "Epoch 86/200\n",
            "10/10 [==============================] - 0s 4ms/step - loss: 13.4269 - mae: 13.4269 - mse: 211.3227 - val_loss: 14.1721 - val_mae: 14.1721 - val_mse: 233.1356\n",
            "Epoch 87/200\n",
            "10/10 [==============================] - 0s 4ms/step - loss: 13.3088 - mae: 13.3088 - mse: 207.8315 - val_loss: 14.0481 - val_mae: 14.0481 - val_mse: 229.2853\n",
            "Epoch 88/200\n",
            "10/10 [==============================] - 0s 4ms/step - loss: 13.1918 - mae: 13.1918 - mse: 204.4364 - val_loss: 13.9234 - val_mae: 13.9234 - val_mse: 225.4470\n",
            "Epoch 89/200\n",
            "10/10 [==============================] - 0s 4ms/step - loss: 13.0739 - mae: 13.0739 - mse: 200.9935 - val_loss: 13.7991 - val_mae: 13.7991 - val_mse: 221.6537\n",
            "Epoch 90/200\n",
            "10/10 [==============================] - 0s 4ms/step - loss: 12.9560 - mae: 12.9560 - mse: 197.6136 - val_loss: 13.6752 - val_mae: 13.6752 - val_mse: 217.9055\n",
            "Epoch 91/200\n",
            "10/10 [==============================] - 0s 3ms/step - loss: 12.8391 - mae: 12.8391 - mse: 194.3092 - val_loss: 13.5506 - val_mae: 13.5506 - val_mse: 214.1691\n",
            "Epoch 92/200\n",
            "10/10 [==============================] - 0s 3ms/step - loss: 12.7217 - mae: 12.7217 - mse: 191.0190 - val_loss: 13.4258 - val_mae: 13.4258 - val_mse: 210.4622\n",
            "Epoch 93/200\n",
            "10/10 [==============================] - 0s 3ms/step - loss: 12.6039 - mae: 12.6039 - mse: 187.7065 - val_loss: 13.3014 - val_mae: 13.3014 - val_mse: 206.7978\n",
            "Epoch 94/200\n",
            "10/10 [==============================] - 0s 4ms/step - loss: 12.4866 - mae: 12.4866 - mse: 184.5010 - val_loss: 13.1766 - val_mae: 13.1766 - val_mse: 203.1577\n",
            "Epoch 95/200\n",
            "10/10 [==============================] - 0s 4ms/step - loss: 12.3693 - mae: 12.3693 - mse: 181.2951 - val_loss: 13.0516 - val_mae: 13.0516 - val_mse: 199.5433\n",
            "Epoch 96/200\n",
            "10/10 [==============================] - 0s 3ms/step - loss: 12.2509 - mae: 12.2509 - mse: 178.0864 - val_loss: 12.9275 - val_mae: 12.9275 - val_mse: 195.9898\n",
            "Epoch 97/200\n",
            "10/10 [==============================] - 0s 4ms/step - loss: 12.1340 - mae: 12.1340 - mse: 174.9280 - val_loss: 12.8027 - val_mae: 12.8027 - val_mse: 192.4481\n",
            "Epoch 98/200\n",
            "10/10 [==============================] - 0s 4ms/step - loss: 12.0163 - mae: 12.0163 - mse: 171.8129 - val_loss: 12.6784 - val_mae: 12.6784 - val_mse: 188.9534\n",
            "Epoch 99/200\n",
            "10/10 [==============================] - 0s 4ms/step - loss: 11.8991 - mae: 11.8991 - mse: 168.7352 - val_loss: 12.5540 - val_mae: 12.5540 - val_mse: 185.4911\n",
            "Epoch 100/200\n",
            "10/10 [==============================] - 0s 3ms/step - loss: 11.7817 - mae: 11.7817 - mse: 165.6148 - val_loss: 12.4301 - val_mae: 12.4301 - val_mse: 182.0750\n",
            "Epoch 101/200\n",
            "10/10 [==============================] - 0s 3ms/step - loss: 11.6655 - mae: 11.6655 - mse: 162.6296 - val_loss: 12.3055 - val_mae: 12.3055 - val_mse: 178.6733\n",
            "Epoch 102/200\n",
            "10/10 [==============================] - 0s 6ms/step - loss: 11.5480 - mae: 11.5480 - mse: 159.5966 - val_loss: 12.1815 - val_mae: 12.1815 - val_mse: 175.3203\n",
            "Epoch 103/200\n",
            "10/10 [==============================] - 0s 4ms/step - loss: 11.4313 - mae: 11.4313 - mse: 156.6438 - val_loss: 12.0579 - val_mae: 12.0579 - val_mse: 172.0125\n",
            "Epoch 104/200\n",
            "10/10 [==============================] - 0s 3ms/step - loss: 11.3164 - mae: 11.3164 - mse: 153.7307 - val_loss: 11.9338 - val_mae: 11.9338 - val_mse: 168.7220\n",
            "Epoch 105/200\n",
            "10/10 [==============================] - 0s 3ms/step - loss: 11.2012 - mae: 11.2012 - mse: 150.8556 - val_loss: 11.8097 - val_mae: 11.8097 - val_mse: 165.4617\n",
            "Epoch 106/200\n",
            "10/10 [==============================] - 0s 3ms/step - loss: 11.0863 - mae: 11.0863 - mse: 147.9435 - val_loss: 11.6905 - val_mae: 11.6905 - val_mse: 162.3231\n",
            "Epoch 107/200\n",
            "10/10 [==============================] - 0s 4ms/step - loss: 10.9770 - mae: 10.9770 - mse: 145.1688 - val_loss: 11.5720 - val_mae: 11.5720 - val_mse: 159.2297\n",
            "Epoch 108/200\n",
            "10/10 [==============================] - 0s 4ms/step - loss: 10.8693 - mae: 10.8693 - mse: 142.4564 - val_loss: 11.4602 - val_mae: 11.4602 - val_mse: 156.1822\n",
            "Epoch 109/200\n",
            "10/10 [==============================] - 0s 4ms/step - loss: 10.7653 - mae: 10.7653 - mse: 139.7634 - val_loss: 11.3516 - val_mae: 11.3516 - val_mse: 153.2103\n",
            "Epoch 110/200\n",
            "10/10 [==============================] - 0s 4ms/step - loss: 10.6621 - mae: 10.6621 - mse: 137.1570 - val_loss: 11.2494 - val_mae: 11.2494 - val_mse: 150.3246\n",
            "Epoch 111/200\n",
            "10/10 [==============================] - 0s 4ms/step - loss: 10.5618 - mae: 10.5618 - mse: 134.5878 - val_loss: 11.1480 - val_mae: 11.1480 - val_mse: 147.4928\n",
            "Epoch 112/200\n",
            "10/10 [==============================] - 0s 3ms/step - loss: 10.4657 - mae: 10.4657 - mse: 132.1117 - val_loss: 11.0472 - val_mae: 11.0472 - val_mse: 144.7038\n",
            "Epoch 113/200\n",
            "10/10 [==============================] - 0s 3ms/step - loss: 10.3722 - mae: 10.3722 - mse: 129.6745 - val_loss: 10.9495 - val_mae: 10.9495 - val_mse: 142.0286\n",
            "Epoch 114/200\n",
            "10/10 [==============================] - 0s 4ms/step - loss: 10.2816 - mae: 10.2816 - mse: 127.2964 - val_loss: 10.8533 - val_mae: 10.8533 - val_mse: 139.4215\n",
            "Epoch 115/200\n",
            "10/10 [==============================] - 0s 4ms/step - loss: 10.1941 - mae: 10.1941 - mse: 125.0131 - val_loss: 10.7570 - val_mae: 10.7570 - val_mse: 136.8332\n",
            "Epoch 116/200\n",
            "10/10 [==============================] - 0s 4ms/step - loss: 10.1074 - mae: 10.1074 - mse: 122.7405 - val_loss: 10.6600 - val_mae: 10.6600 - val_mse: 134.2549\n",
            "Epoch 117/200\n",
            "10/10 [==============================] - 0s 4ms/step - loss: 10.0183 - mae: 10.0183 - mse: 120.4784 - val_loss: 10.5646 - val_mae: 10.5646 - val_mse: 131.7432\n",
            "Epoch 118/200\n",
            "10/10 [==============================] - 0s 6ms/step - loss: 9.9309 - mae: 9.9309 - mse: 118.2503 - val_loss: 10.4687 - val_mae: 10.4687 - val_mse: 129.2445\n",
            "Epoch 119/200\n",
            "10/10 [==============================] - 0s 4ms/step - loss: 9.8440 - mae: 9.8440 - mse: 116.0610 - val_loss: 10.3718 - val_mae: 10.3718 - val_mse: 126.7453\n",
            "Epoch 120/200\n",
            "10/10 [==============================] - 0s 4ms/step - loss: 9.7548 - mae: 9.7548 - mse: 113.8031 - val_loss: 10.2762 - val_mae: 10.2762 - val_mse: 124.3038\n",
            "Epoch 121/200\n",
            "10/10 [==============================] - 0s 4ms/step - loss: 9.6666 - mae: 9.6666 - mse: 111.6548 - val_loss: 10.1806 - val_mae: 10.1806 - val_mse: 121.8866\n",
            "Epoch 122/200\n",
            "10/10 [==============================] - 0s 3ms/step - loss: 9.5788 - mae: 9.5788 - mse: 109.4988 - val_loss: 10.0843 - val_mae: 10.0843 - val_mse: 119.4805\n",
            "Epoch 123/200\n",
            "10/10 [==============================] - 0s 5ms/step - loss: 9.4925 - mae: 9.4925 - mse: 107.4112 - val_loss: 9.9857 - val_mae: 9.9857 - val_mse: 117.0418\n",
            "Epoch 124/200\n",
            "10/10 [==============================] - 0s 4ms/step - loss: 9.4019 - mae: 9.4019 - mse: 105.2506 - val_loss: 9.8893 - val_mae: 9.8893 - val_mse: 114.6812\n",
            "Epoch 125/200\n",
            "10/10 [==============================] - 0s 3ms/step - loss: 9.3132 - mae: 9.3132 - mse: 103.1376 - val_loss: 9.7929 - val_mae: 9.7929 - val_mse: 112.3484\n",
            "Epoch 126/200\n",
            "10/10 [==============================] - 0s 3ms/step - loss: 9.2249 - mae: 9.2249 - mse: 101.0853 - val_loss: 9.6958 - val_mae: 9.6958 - val_mse: 110.0232\n",
            "Epoch 127/200\n",
            "10/10 [==============================] - 0s 4ms/step - loss: 9.1361 - mae: 9.1361 - mse: 99.0220 - val_loss: 9.5984 - val_mae: 9.5984 - val_mse: 107.7193\n",
            "Epoch 128/200\n",
            "10/10 [==============================] - 0s 4ms/step - loss: 9.0475 - mae: 9.0475 - mse: 96.9756 - val_loss: 9.5005 - val_mae: 9.5005 - val_mse: 105.4282\n",
            "Epoch 129/200\n",
            "10/10 [==============================] - 0s 4ms/step - loss: 8.9581 - mae: 8.9581 - mse: 94.9758 - val_loss: 9.4028 - val_mae: 9.4028 - val_mse: 103.1672\n",
            "Epoch 130/200\n",
            "10/10 [==============================] - 0s 4ms/step - loss: 8.8687 - mae: 8.8687 - mse: 92.9967 - val_loss: 9.3052 - val_mae: 9.3052 - val_mse: 100.9353\n",
            "Epoch 131/200\n",
            "10/10 [==============================] - 0s 5ms/step - loss: 8.7784 - mae: 8.7784 - mse: 90.9980 - val_loss: 9.2083 - val_mae: 9.2083 - val_mse: 98.7470\n",
            "Epoch 132/200\n",
            "10/10 [==============================] - 0s 3ms/step - loss: 8.6912 - mae: 8.6912 - mse: 89.1013 - val_loss: 9.1089 - val_mae: 9.1089 - val_mse: 96.5275\n",
            "Epoch 133/200\n",
            "10/10 [==============================] - 0s 4ms/step - loss: 8.6009 - mae: 8.6009 - mse: 87.1338 - val_loss: 9.0102 - val_mae: 9.0102 - val_mse: 94.3516\n",
            "Epoch 134/200\n",
            "10/10 [==============================] - 0s 3ms/step - loss: 8.5096 - mae: 8.5096 - mse: 85.2004 - val_loss: 8.9133 - val_mae: 8.9133 - val_mse: 92.2399\n",
            "Epoch 135/200\n",
            "10/10 [==============================] - 0s 3ms/step - loss: 8.4212 - mae: 8.4212 - mse: 83.3306 - val_loss: 8.8144 - val_mae: 8.8144 - val_mse: 90.1128\n",
            "Epoch 136/200\n",
            "10/10 [==============================] - 0s 3ms/step - loss: 8.3307 - mae: 8.3307 - mse: 81.4633 - val_loss: 8.7159 - val_mae: 8.7159 - val_mse: 88.0189\n",
            "Epoch 137/200\n",
            "10/10 [==============================] - 0s 3ms/step - loss: 8.2408 - mae: 8.2408 - mse: 79.6068 - val_loss: 8.6172 - val_mae: 8.6172 - val_mse: 85.9493\n",
            "Epoch 138/200\n",
            "10/10 [==============================] - 0s 4ms/step - loss: 8.1504 - mae: 8.1504 - mse: 77.7881 - val_loss: 8.5187 - val_mae: 8.5187 - val_mse: 83.9093\n",
            "Epoch 139/200\n",
            "10/10 [==============================] - 0s 4ms/step - loss: 8.0605 - mae: 8.0605 - mse: 75.9971 - val_loss: 8.4196 - val_mae: 8.4196 - val_mse: 81.8848\n",
            "Epoch 140/200\n",
            "10/10 [==============================] - 0s 4ms/step - loss: 7.9695 - mae: 7.9695 - mse: 74.1858 - val_loss: 8.3209 - val_mae: 8.3209 - val_mse: 79.8969\n",
            "Epoch 141/200\n",
            "10/10 [==============================] - 0s 3ms/step - loss: 7.8796 - mae: 7.8796 - mse: 72.4487 - val_loss: 8.2215 - val_mae: 8.2215 - val_mse: 77.9191\n",
            "Epoch 142/200\n",
            "10/10 [==============================] - 0s 4ms/step - loss: 7.7886 - mae: 7.7886 - mse: 70.7268 - val_loss: 8.1223 - val_mae: 8.1223 - val_mse: 75.9748\n",
            "Epoch 143/200\n",
            "10/10 [==============================] - 0s 4ms/step - loss: 7.6987 - mae: 7.6987 - mse: 69.0167 - val_loss: 8.0221 - val_mae: 8.0221 - val_mse: 74.0357\n",
            "Epoch 144/200\n",
            "10/10 [==============================] - 0s 5ms/step - loss: 7.6065 - mae: 7.6065 - mse: 67.2959 - val_loss: 7.9231 - val_mae: 7.9231 - val_mse: 72.1499\n",
            "Epoch 145/200\n",
            "10/10 [==============================] - 0s 4ms/step - loss: 7.5165 - mae: 7.5165 - mse: 65.6184 - val_loss: 7.8234 - val_mae: 7.8234 - val_mse: 70.2750\n",
            "Epoch 146/200\n",
            "10/10 [==============================] - 0s 3ms/step - loss: 7.4247 - mae: 7.4247 - mse: 63.9629 - val_loss: 7.7242 - val_mae: 7.7242 - val_mse: 68.4384\n",
            "Epoch 147/200\n",
            "10/10 [==============================] - 0s 3ms/step - loss: 7.3330 - mae: 7.3330 - mse: 62.3343 - val_loss: 7.6254 - val_mae: 7.6254 - val_mse: 66.6362\n",
            "Epoch 148/200\n",
            "10/10 [==============================] - 0s 4ms/step - loss: 7.2419 - mae: 7.2419 - mse: 60.7234 - val_loss: 7.5262 - val_mae: 7.5262 - val_mse: 64.8534\n",
            "Epoch 149/200\n",
            "10/10 [==============================] - 0s 4ms/step - loss: 7.1524 - mae: 7.1524 - mse: 59.1865 - val_loss: 7.4249 - val_mae: 7.4249 - val_mse: 63.0606\n",
            "Epoch 150/200\n",
            "10/10 [==============================] - 0s 4ms/step - loss: 7.0599 - mae: 7.0599 - mse: 57.6117 - val_loss: 7.3246 - val_mae: 7.3246 - val_mse: 61.3142\n",
            "Epoch 151/200\n",
            "10/10 [==============================] - 0s 4ms/step - loss: 6.9682 - mae: 6.9682 - mse: 56.0749 - val_loss: 7.2246 - val_mae: 7.2246 - val_mse: 59.6000\n",
            "Epoch 152/200\n",
            "10/10 [==============================] - 0s 4ms/step - loss: 6.8765 - mae: 6.8765 - mse: 54.5527 - val_loss: 7.1246 - val_mae: 7.1246 - val_mse: 57.9128\n",
            "Epoch 153/200\n",
            "10/10 [==============================] - 0s 3ms/step - loss: 6.7855 - mae: 6.7855 - mse: 53.0710 - val_loss: 7.0237 - val_mae: 7.0237 - val_mse: 56.2384\n",
            "Epoch 154/200\n",
            "10/10 [==============================] - 0s 4ms/step - loss: 6.6921 - mae: 6.6921 - mse: 51.5884 - val_loss: 6.9244 - val_mae: 6.9244 - val_mse: 54.6187\n",
            "Epoch 155/200\n",
            "10/10 [==============================] - 0s 4ms/step - loss: 6.6010 - mae: 6.6010 - mse: 50.1683 - val_loss: 6.8238 - val_mae: 6.8238 - val_mse: 53.0051\n",
            "Epoch 156/200\n",
            "10/10 [==============================] - 0s 3ms/step - loss: 6.5104 - mae: 6.5104 - mse: 48.7665 - val_loss: 6.7216 - val_mae: 6.7216 - val_mse: 51.3931\n",
            "Epoch 157/200\n",
            "10/10 [==============================] - 0s 6ms/step - loss: 6.4170 - mae: 6.4170 - mse: 47.3460 - val_loss: 6.6207 - val_mae: 6.6207 - val_mse: 49.8304\n",
            "Epoch 158/200\n",
            "10/10 [==============================] - 0s 3ms/step - loss: 6.3240 - mae: 6.3240 - mse: 45.9671 - val_loss: 6.5204 - val_mae: 6.5204 - val_mse: 48.3053\n",
            "Epoch 159/200\n",
            "10/10 [==============================] - 0s 4ms/step - loss: 6.2335 - mae: 6.2335 - mse: 44.6547 - val_loss: 6.4180 - val_mae: 6.4180 - val_mse: 46.7774\n",
            "Epoch 160/200\n",
            "10/10 [==============================] - 0s 3ms/step - loss: 6.1394 - mae: 6.1394 - mse: 43.2966 - val_loss: 6.3175 - val_mae: 6.3175 - val_mse: 45.3051\n",
            "Epoch 161/200\n",
            "10/10 [==============================] - 0s 4ms/step - loss: 6.0478 - mae: 6.0478 - mse: 42.0264 - val_loss: 6.2158 - val_mae: 6.2158 - val_mse: 43.8438\n",
            "Epoch 162/200\n",
            "10/10 [==============================] - 0s 4ms/step - loss: 5.9543 - mae: 5.9543 - mse: 40.7156 - val_loss: 6.1151 - val_mae: 6.1151 - val_mse: 42.4251\n",
            "Epoch 163/200\n",
            "10/10 [==============================] - 0s 5ms/step - loss: 5.8616 - mae: 5.8616 - mse: 39.4487 - val_loss: 6.0144 - val_mae: 6.0144 - val_mse: 41.0334\n",
            "Epoch 164/200\n",
            "10/10 [==============================] - 0s 4ms/step - loss: 5.7703 - mae: 5.7703 - mse: 38.2631 - val_loss: 5.9120 - val_mae: 5.9120 - val_mse: 39.6467\n",
            "Epoch 165/200\n",
            "10/10 [==============================] - 0s 4ms/step - loss: 5.6762 - mae: 5.6762 - mse: 37.0358 - val_loss: 5.8109 - val_mae: 5.8109 - val_mse: 38.3066\n",
            "Epoch 166/200\n",
            "10/10 [==============================] - 0s 4ms/step - loss: 5.5842 - mae: 5.5842 - mse: 35.8594 - val_loss: 5.7086 - val_mae: 5.7086 - val_mse: 36.9791\n",
            "Epoch 167/200\n",
            "10/10 [==============================] - 0s 4ms/step - loss: 5.4906 - mae: 5.4906 - mse: 34.7035 - val_loss: 5.6070 - val_mae: 5.6070 - val_mse: 35.6888\n",
            "Epoch 168/200\n",
            "10/10 [==============================] - 0s 3ms/step - loss: 5.3975 - mae: 5.3975 - mse: 33.5602 - val_loss: 5.5054 - val_mae: 5.5054 - val_mse: 34.4282\n",
            "Epoch 169/200\n",
            "10/10 [==============================] - 0s 4ms/step - loss: 5.3041 - mae: 5.3041 - mse: 32.4734 - val_loss: 5.4043 - val_mae: 5.4043 - val_mse: 33.2007\n",
            "Epoch 170/200\n",
            "10/10 [==============================] - 0s 4ms/step - loss: 5.2134 - mae: 5.2134 - mse: 31.4132 - val_loss: 5.3013 - val_mae: 5.3013 - val_mse: 31.9791\n",
            "Epoch 171/200\n",
            "10/10 [==============================] - 0s 4ms/step - loss: 5.1201 - mae: 5.1201 - mse: 30.3574 - val_loss: 5.1995 - val_mae: 5.1995 - val_mse: 30.7973\n",
            "Epoch 172/200\n",
            "10/10 [==============================] - 0s 5ms/step - loss: 5.0257 - mae: 5.0257 - mse: 29.3061 - val_loss: 5.1014 - val_mae: 5.1014 - val_mse: 29.6651\n",
            "Epoch 173/200\n",
            "10/10 [==============================] - 0s 4ms/step - loss: 4.9345 - mae: 4.9345 - mse: 28.3096 - val_loss: 5.0016 - val_mae: 5.0016 - val_mse: 28.5425\n",
            "Epoch 174/200\n",
            "10/10 [==============================] - 0s 5ms/step - loss: 4.8421 - mae: 4.8421 - mse: 27.3275 - val_loss: 4.9013 - val_mae: 4.9013 - val_mse: 27.4431\n",
            "Epoch 175/200\n",
            "10/10 [==============================] - 0s 4ms/step - loss: 4.7486 - mae: 4.7486 - mse: 26.3678 - val_loss: 4.8017 - val_mae: 4.8017 - val_mse: 26.3788\n",
            "Epoch 176/200\n",
            "10/10 [==============================] - 0s 4ms/step - loss: 4.6574 - mae: 4.6574 - mse: 25.4596 - val_loss: 4.7002 - val_mae: 4.7002 - val_mse: 25.3244\n",
            "Epoch 177/200\n",
            "10/10 [==============================] - 0s 4ms/step - loss: 4.5621 - mae: 4.5621 - mse: 24.5266 - val_loss: 4.6013 - val_mae: 4.6013 - val_mse: 24.3256\n",
            "Epoch 178/200\n",
            "10/10 [==============================] - 0s 4ms/step - loss: 4.4702 - mae: 4.4702 - mse: 23.6506 - val_loss: 4.5025 - val_mae: 4.5025 - val_mse: 23.3552\n",
            "Epoch 179/200\n",
            "10/10 [==============================] - 0s 4ms/step - loss: 4.3809 - mae: 4.3809 - mse: 22.8288 - val_loss: 4.4019 - val_mae: 4.4019 - val_mse: 22.3968\n",
            "Epoch 180/200\n",
            "10/10 [==============================] - 0s 3ms/step - loss: 4.2878 - mae: 4.2878 - mse: 21.9776 - val_loss: 4.3034 - val_mae: 4.3034 - val_mse: 21.4858\n",
            "Epoch 181/200\n",
            "10/10 [==============================] - 0s 3ms/step - loss: 4.1974 - mae: 4.1974 - mse: 21.1921 - val_loss: 4.2040 - val_mae: 4.2040 - val_mse: 20.5947\n",
            "Epoch 182/200\n",
            "10/10 [==============================] - 0s 4ms/step - loss: 4.1066 - mae: 4.1066 - mse: 20.4271 - val_loss: 4.1039 - val_mae: 4.1039 - val_mse: 19.7262\n",
            "Epoch 183/200\n",
            "10/10 [==============================] - 0s 4ms/step - loss: 4.0145 - mae: 4.0145 - mse: 19.6535 - val_loss: 4.0054 - val_mae: 4.0054 - val_mse: 18.8996\n",
            "Epoch 184/200\n",
            "10/10 [==============================] - 0s 4ms/step - loss: 3.9267 - mae: 3.9267 - mse: 18.9659 - val_loss: 3.9065 - val_mae: 3.9065 - val_mse: 18.0975\n",
            "Epoch 185/200\n",
            "10/10 [==============================] - 0s 3ms/step - loss: 3.8388 - mae: 3.8388 - mse: 18.2707 - val_loss: 3.8098 - val_mae: 3.8098 - val_mse: 17.3403\n",
            "Epoch 186/200\n",
            "10/10 [==============================] - 0s 3ms/step - loss: 3.7539 - mae: 3.7539 - mse: 17.6291 - val_loss: 3.7131 - val_mae: 3.7131 - val_mse: 16.6102\n",
            "Epoch 187/200\n",
            "10/10 [==============================] - 0s 4ms/step - loss: 3.6678 - mae: 3.6678 - mse: 16.9886 - val_loss: 3.6180 - val_mae: 3.6180 - val_mse: 15.9184\n",
            "Epoch 188/200\n",
            "10/10 [==============================] - 0s 4ms/step - loss: 3.5836 - mae: 3.5836 - mse: 16.3821 - val_loss: 3.5235 - val_mae: 3.5235 - val_mse: 15.2559\n",
            "Epoch 189/200\n",
            "10/10 [==============================] - 0s 4ms/step - loss: 3.5017 - mae: 3.5017 - mse: 15.8326 - val_loss: 3.4269 - val_mae: 3.4269 - val_mse: 14.6060\n",
            "Epoch 190/200\n",
            "10/10 [==============================] - 0s 4ms/step - loss: 3.4182 - mae: 3.4182 - mse: 15.2691 - val_loss: 3.3312 - val_mae: 3.3312 - val_mse: 13.9882\n",
            "Epoch 191/200\n",
            "10/10 [==============================] - 0s 4ms/step - loss: 3.3354 - mae: 3.3354 - mse: 14.7464 - val_loss: 3.2379 - val_mae: 3.2379 - val_mse: 13.3979\n",
            "Epoch 192/200\n",
            "10/10 [==============================] - 0s 3ms/step - loss: 3.2530 - mae: 3.2530 - mse: 14.2276 - val_loss: 3.1479 - val_mae: 3.1479 - val_mse: 12.8451\n",
            "Epoch 193/200\n",
            "10/10 [==============================] - 0s 4ms/step - loss: 3.1726 - mae: 3.1726 - mse: 13.7533 - val_loss: 3.0578 - val_mae: 3.0578 - val_mse: 12.3173\n",
            "Epoch 194/200\n",
            "10/10 [==============================] - 0s 4ms/step - loss: 3.0936 - mae: 3.0936 - mse: 13.3005 - val_loss: 2.9694 - val_mae: 2.9694 - val_mse: 11.8172\n",
            "Epoch 195/200\n",
            "10/10 [==============================] - 0s 3ms/step - loss: 3.0159 - mae: 3.0159 - mse: 12.8915 - val_loss: 2.8824 - val_mae: 2.8824 - val_mse: 11.3388\n",
            "Epoch 196/200\n",
            "10/10 [==============================] - 0s 4ms/step - loss: 2.9367 - mae: 2.9367 - mse: 12.4766 - val_loss: 2.7970 - val_mae: 2.7970 - val_mse: 10.8941\n",
            "Epoch 197/200\n",
            "10/10 [==============================] - 0s 4ms/step - loss: 2.8605 - mae: 2.8605 - mse: 12.1087 - val_loss: 2.7131 - val_mae: 2.7131 - val_mse: 10.4702\n",
            "Epoch 198/200\n",
            "10/10 [==============================] - 0s 4ms/step - loss: 2.7866 - mae: 2.7866 - mse: 11.7422 - val_loss: 2.6307 - val_mae: 2.6307 - val_mse: 10.0758\n",
            "Epoch 199/200\n",
            "10/10 [==============================] - 0s 3ms/step - loss: 2.7129 - mae: 2.7129 - mse: 11.4068 - val_loss: 2.5492 - val_mae: 2.5492 - val_mse: 9.7093\n",
            "Epoch 200/200\n",
            "10/10 [==============================] - 0s 3ms/step - loss: 2.6408 - mae: 2.6408 - mse: 11.1188 - val_loss: 2.4690 - val_mae: 2.4690 - val_mse: 9.3696\n"
          ],
          "name": "stdout"
        }
      ]
    },
    {
      "cell_type": "code",
      "metadata": {
        "colab": {
          "base_uri": "https://localhost:8080/"
        },
        "id": "1lsbk_ohAu1j",
        "outputId": "8e9d9654-1acb-4440-ec57-4c7879baf6d7"
      },
      "source": [
        "model.summary()"
      ],
      "execution_count": null,
      "outputs": [
        {
          "output_type": "stream",
          "text": [
            "Model: \"sequential\"\n",
            "_________________________________________________________________\n",
            "Layer (type)                 Output Shape              Param #   \n",
            "=================================================================\n",
            "dense (Dense)                (None, 1)                 2         \n",
            "=================================================================\n",
            "Total params: 2\n",
            "Trainable params: 2\n",
            "Non-trainable params: 0\n",
            "_________________________________________________________________\n"
          ],
          "name": "stdout"
        }
      ]
    },
    {
      "cell_type": "code",
      "metadata": {
        "colab": {
          "base_uri": "https://localhost:8080/",
          "height": 705
        },
        "id": "P6VnkPim7tH7",
        "outputId": "fa76cd47-bf22-43f4-bb14-75386ff34191"
      },
      "source": [
        "# string --> loss , mae, mse\n",
        "\n",
        "def plotGraphs(history, string): \n",
        "  plt.plot(history.history[string])\n",
        "  plt.plot(history.history[f'val_{string}'])\n",
        "  plt.xlabel('Num of Epochs')\n",
        "  plt.ylabel(string)\n",
        "  plt.legend([string, f'val_{string}'])\n",
        "  plt.show()\n",
        "\n",
        "plotGraphs(history, 'loss')\n",
        "plotGraphs(history, 'mae')"
      ],
      "execution_count": null,
      "outputs": [
        {
          "output_type": "display_data",
          "data": {
            "image/png": "[encoded data removed]",
            "text/plain": [
              "<Figure size 576x396 with 1 Axes>"
            ]
          },
          "metadata": {
            "tags": []
          }
        },
        {
          "output_type": "display_data",
          "data": {
            "image/png": "[encoded data removed]",
            "text/plain": [
              "<Figure size 576x396 with 1 Axes>"
            ]
          },
          "metadata": {
            "tags": []
          }
        }
      ]
    },
    {
      "cell_type": "code",
      "metadata": {
        "id": "KJrLWamX8Tg-"
      },
      "source": [
        "testPreds = model.predict(testFeatures).flatten() #array of all prediction values"
      ],
      "execution_count": null,
      "outputs": []
    },
    {
      "cell_type": "code",
      "metadata": {
        "colab": {
          "base_uri": "https://localhost:8080/",
          "height": 361
        },
        "id": "EfP8bB_v89Wa",
        "outputId": "464620dd-4a77-4d18-9116-d2e071f5e8fa"
      },
      "source": [
        "# prediciton plot --> how well is your model predicting across the actual labels\n",
        "\n",
        "def predPlot(labels, predictions):\n",
        "  plt.scatter(labels, predictions)\n",
        "  plt.ylabel('Predictions')\n",
        "  plt.xlabel('True Value or Labels')\n",
        "  plt.axis('equal')\n",
        "  plt.axis('square')\n",
        "  plt.xlim([0, plt.xlim()[1]])\n",
        "  plt.ylim([0, plt.ylim()[1]])\n",
        "  plt.plot([-100, 100], [-100,100])\n",
        "  plt.show()\n",
        "\n",
        "predPlot(testLabels, testPreds)"
      ],
      "execution_count": null,
      "outputs": [
        {
          "output_type": "display_data",
          "data": {
            "image/png": "[encoded data removed]",
            "text/plain": [
              "<Figure size 576x396 with 1 Axes>"
            ]
          },
          "metadata": {
            "tags": []
          }
        }
      ]
    },
    {
      "cell_type": "code",
      "metadata": {
        "colab": {
          "base_uri": "https://localhost:8080/",
          "height": 361
        },
        "id": "70608Z0o9tWL",
        "outputId": "d646f328-fd49-4766-8509-e27cbbb6669c"
      },
      "source": [
        "#error plot --> gaussian distribution \n",
        "\n",
        "def errorPlot(preds, labels, counts):\n",
        "  errors = preds - labels\n",
        "  plt.hist(errors, counts)\n",
        "  plt.xlabel('Error')\n",
        "  plt.ylabel('Counts')\n",
        "  plt.show()\n",
        "\n",
        "errorPlot(testPreds, testLabels, numEpochs)"
      ],
      "execution_count": null,
      "outputs": [
        {
          "output_type": "display_data",
          "data": {
            "image/png": "[encoded data removed]",
            "text/plain": [
              "<Figure size 576x396 with 1 Axes>"
            ]
          },
          "metadata": {
            "tags": []
          }
        }
      ]
    }
  ]
}
